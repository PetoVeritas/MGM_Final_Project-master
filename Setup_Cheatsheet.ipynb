{
 "cells": [
  {
   "cell_type": "code",
   "execution_count": 121,
   "metadata": {},
   "outputs": [],
   "source": [
    "#Inside the main dir create the \n",
    "#pyclassapp.py \n",
    "#.flaskenv and \n",
    "#config.py files below:"
   ]
  },
  {
   "cell_type": "code",
   "execution_count": 122,
   "metadata": {},
   "outputs": [
    {
     "name": "stdout",
     "output_type": "stream",
     "text": [
      "Overwriting .flaskenv\n"
     ]
    }
   ],
   "source": [
    "%%writefile .flaskenv\n",
    "FLASK_APP=pyclassapp.py"
   ]
  },
  {
   "cell_type": "code",
   "execution_count": 123,
   "metadata": {},
   "outputs": [
    {
     "name": "stdout",
     "output_type": "stream",
     "text": [
      "Overwriting pyclassapp.py\n"
     ]
    }
   ],
   "source": [
    "%%writefile pyclassapp.py\n",
    "from app import app"
   ]
  },
  {
   "cell_type": "code",
   "execution_count": 124,
   "metadata": {},
   "outputs": [
    {
     "name": "stdout",
     "output_type": "stream",
     "text": [
      "Overwriting config.py\n"
     ]
    }
   ],
   "source": [
    "%%writefile config.py\n",
    "import os\n",
    "\n",
    "class Config(object):\n",
    "    SECRET_KEY = os.environ.get('SECRET_KEY') or 'you-will-never-guess'"
   ]
  },
  {
   "cell_type": "code",
   "execution_count": 125,
   "metadata": {},
   "outputs": [],
   "source": [
    "#Then create a new folder subdirectory called app\n",
    "#Then inside app create the __init__.py and routes.py files below:"
   ]
  },
  {
   "cell_type": "code",
   "execution_count": 126,
   "metadata": {},
   "outputs": [
    {
     "name": "stdout",
     "output_type": "stream",
     "text": [
      "Overwriting app/__init__.py\n"
     ]
    }
   ],
   "source": [
    "%%writefile app/__init__.py\n",
    "from flask import Flask\n",
    "from config import Config\n",
    "\n",
    "app = Flask(__name__)\n",
    "app.config.from_object(Config)\n",
    "\n",
    "from app import routes"
   ]
  },
  {
   "cell_type": "code",
   "execution_count": 127,
   "metadata": {},
   "outputs": [
    {
     "name": "stdout",
     "output_type": "stream",
     "text": [
      "Overwriting app/routes.py\n"
     ]
    }
   ],
   "source": [
    "%%writefile app/routes.py\n",
    "from flask import render_template\n",
    "from app import app\n",
    "\n",
    "import io\n",
    "import random\n",
    "import pandas as pd\n",
    "from flask import Response\n",
    "from matplotlib.backends.backend_agg import FigureCanvasAgg as FigureCanvas\n",
    "from matplotlib.figure import Figure\n",
    "\n",
    "def create_figure():\n",
    "    fig = Figure()\n",
    "    axis = fig.add_subplot(1, 1, 1)\n",
    "    xs = range(100)\n",
    "    ys = [random.randint(1, 50) for x in xs]\n",
    "    axis.plot(xs, ys)\n",
    "    return fig\n",
    "\n",
    "\n",
    "@app.route('/')\n",
    "@app.route('/index')\n",
    "def index():\n",
    "    user = {'username': 'Martin'}\n",
    "    posts = [\n",
    "        {\n",
    "            'author': {'username': 'Carlos'},\n",
    "            'body': 'This site looks..\"great\"!'\n",
    "        },\n",
    "        {\n",
    "            'author': {'username': 'Brenna'},\n",
    "            'body': 'Where are the Moops?!'\n",
    "        }\n",
    "    ]\n",
    "    return render_template('index.html', title='Home', user=user, posts=posts)\n",
    "@app.route('/historic')\n",
    "def historic():\n",
    "    fig = create_figure()\n",
    "    output = io.BytesIO()\n",
    "    FigureCanvas(fig).print_png(output)\n",
    "    return Response(output.getvalue(), mimetype='image/png')"
   ]
  },
  {
   "cell_type": "code",
   "execution_count": 128,
   "metadata": {},
   "outputs": [],
   "source": [
    "#Then create a new folder subdirectory in app called templates"
   ]
  },
  {
   "cell_type": "code",
   "execution_count": 129,
   "metadata": {},
   "outputs": [],
   "source": [
    "#The following is the base template as well as other pages"
   ]
  },
  {
   "cell_type": "code",
   "execution_count": 130,
   "metadata": {},
   "outputs": [
    {
     "name": "stdout",
     "output_type": "stream",
     "text": [
      "Writing app/templates/base.html\n"
     ]
    }
   ],
   "source": [
    "%%writefile app/templates/base.html\n",
    "<html>\n",
    "    <head>\n",
    "        {% if title %}\n",
    "        <title>{{ title }} - PyClassApp</title>\n",
    "        {% else %}\n",
    "        <title>Welcome to PyClassApp</title>\n",
    "        {% endif %}\n",
    "    </head>\n",
    "    <body>\n",
    "        <div>\n",
    "            PyClassApp: \n",
    "            <a href=\"/index\">Home</a>\n",
    "            <a href=\"/historic\">Historic</a>\n",
    "        </div>\n",
    "        <h1>\n",
    "        {% block content %}{% endblock %}\n",
    "    </body>\n",
    "</html>"
   ]
  },
  {
   "cell_type": "code",
   "execution_count": 131,
   "metadata": {},
   "outputs": [
    {
     "name": "stdout",
     "output_type": "stream",
     "text": [
      "Writing app/templates/index.html\n"
     ]
    }
   ],
   "source": [
    "%%writefile app/templates/index.html\n",
    "{% extends \"base.html\" %}\n",
    "\n",
    "{% block content %}\n",
    "    <h1>Hi, {{ user.username }}!</h1>\n",
    "    <br></br>\n",
    "    <div><p>---Page Comments---</p></div>\n",
    "    {% for post in posts %}\n",
    "    <div><p>{{ post.author.username }} says: <b>{{ post.body }}</b></p></div>\n",
    "    {% endfor %}\n",
    "{% endblock %}"
   ]
  },
  {
   "cell_type": "code",
   "execution_count": null,
   "metadata": {},
   "outputs": [],
   "source": []
  },
  {
   "cell_type": "code",
   "execution_count": 132,
   "metadata": {},
   "outputs": [
    {
     "data": {
      "image/png": "[encoded data removed]",
      "text/plain": [
       "<Figure size 432x288 with 1 Axes>"
      ]
     },
     "metadata": {
      "needs_background": "light"
     },
     "output_type": "display_data"
    }
   ],
   "source": [
    "import pandas as pd\n",
    "\n",
    "deficit_data = pd.read_csv(\"https://datalab.usaspending.gov/americas-finance-guide/afgData/federal_deficit_trends.csv\")\n",
    "\n",
    "column_list = [\"year\", \"federal_deficit\"]\n",
    "deficit_data[list(column_list)]\n",
    "\n",
    "deficit_data['federal_deficit_in_billions'] = deficit_data['federal_deficit'] / -1_000_000_000\n",
    "ax = deficit_data.plot(x=\"year\", y=\"federal_deficit_in_billions\", legend=False)\n",
    "ax.set_ylabel(\"Federal Deficit in Billions of Dollars\")\n",
    "ax.set_xlabel(\"Years\")\n",
    "ax.set_xticks(deficit_data[\"year\"].unique()[::2]);"
   ]
  },
  {
   "cell_type": "code",
   "execution_count": null,
   "metadata": {},
   "outputs": [],
   "source": []
  }
 ],
 "metadata": {
  "kernelspec": {
   "display_name": "Python 3",
   "language": "python",
   "name": "python3"
  },
  "language_info": {
   "codemirror_mode": {
    "name": "ipython",
    "version": 3
   },
   "file_extension": ".py",
   "mimetype": "text/x-python",
   "name": "python",
   "nbconvert_exporter": "python",
   "pygments_lexer": "ipython3",
   "version": "3.7.4"
  }
 },
 "nbformat": 4,
 "nbformat_minor": 4
}
